{
 "cells": [
  {
   "cell_type": "code",
   "execution_count": null,
   "metadata": {
    "collapsed": true
   },
   "outputs": [
    {
     "name": "stdout",
     "output_type": "stream",
     "text": [
      "[['START', '托马斯 · 桑斯特', '陈思宇'], ['托马斯 · 桑斯特', '出生 日期', '1990 - 5 - 16'], ['陈思宇', '出生 日期', '1990 - 5 - 16']]\n[['托马斯 · 桑斯特', '血型', 'A型'], ['托马斯 · 桑斯特', '标签', '口碑 很好'], ['托马斯 · 桑斯特', '获奖', '移动迷宫_提名 _ ( 2015 ； 第17届 ) _ 青少年选择奖 _ 青少年选择奖 - 最佳 电影 火花'], ['托马斯 · 桑斯特', '性别', '男'], ['托马斯 · 桑斯特', '职业', '演员'], ['托马斯 · 桑斯特', '领域', '明星'], ['托马斯 · 桑斯特', '星座', '金牛座'], ['陈思宇', '星座', '金牛座'], ['陈思宇', '毕业 院校', '北京电影学院'], ['陈思宇', '体重', '65kg'], ['陈思宇', '性别', '男'], ['陈思宇', '职业', '演员'], ['陈思宇', '领域', '明星'], ['托马斯 · 桑斯特', '评论', '第一次 看到 这 孩子 是 在 《 真爱至上 》 ， 萌 翻 了 ， 现在 长大 了 气质 不错'], ['托马斯 · 桑斯特', '主要成就', '2004年 金卫星奖 年轻 男演员 奖 提名'], ['托马斯 · 桑斯特', '代表作', '神秘博士第三季']]\n['知道 外国 有 个 明星 长 得 很 萌 吗 ？', '这个 还 真 不知道 呢 ， 请问 是 谁 啊 ？', '是 托马斯 · 桑斯特 ， 颜值 太 高 了 。', '哦 ， 没 应 说过 呢 ， 你 能 给 大体 说说 么 ？', '给 你 大体 说说 ， 他 口碑 很好 的 ， 也 很 有 才华 ， 我们 国家 有 个 小 哥哥 跟 他 一样 都是 1990年5月16日 出生 的 。', '是 谁 啊 ？', '陈思宇 ， 金牛座 的 ， 毕业 于 北京电影学院 。', '有 时间 了解 一下 。']\n"
     ]
    }
   ],
   "source": [
    "import json\n",
    "data_dic={}\n",
    "data_num=0\n",
    "with open('./data/train_part.txt',encoding='utf-8') as f:\n",
    "    for line in f.readlines():\n",
    "        data_dic[data_num]=json.loads(line)\n",
    "        data_num+=1\n",
    "# print(data_dic)\n",
    "for key in data_dic[0].keys():\n",
    "    print(key,data_dic[0][key])"
   ]
  },
  {
   "cell_type": "code",
   "execution_count": null,
   "metadata": {},
   "outputs": [],
   "source": []
  }
 ],
 "metadata": {
  "kernelspec": {
   "display_name": "Python 2",
   "language": "python",
   "name": "python2"
  },
  "language_info": {
   "codemirror_mode": {
    "name": "ipython",
    "version": 2
   },
   "file_extension": ".py",
   "mimetype": "text/x-python",
   "name": "python",
   "nbconvert_exporter": "python",
   "pygments_lexer": "ipython2",
   "version": "2.7.6"
  }
 },
 "nbformat": 4,
 "nbformat_minor": 0
}
